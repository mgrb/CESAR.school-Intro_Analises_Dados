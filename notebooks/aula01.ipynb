{
 "cells": [
  {
   "cell_type": "markdown",
   "metadata": {},
   "source": [
    "# Aula 01 - Analise de Dados"
   ]
  },
  {
   "cell_type": "code",
   "execution_count": 1,
   "metadata": {},
   "outputs": [
    {
     "name": "stdout",
     "output_type": "stream",
     "text": [
      "Execution time:  0.13839387893676758\n"
     ]
    }
   ],
   "source": [
    "import time\n",
    "\n",
    "star_time = time.time()\n",
    "\n",
    "a = range(1050000)\n",
    "b = range(1050000)\n",
    "c = []\n",
    "\n",
    "[c.append(a[i] + b[i]) for i in range(len(a))]\n",
    "\n",
    "end_time = time.time() - star_time\n",
    "print('Execution time: ', end_time)"
   ]
  },
  {
   "cell_type": "code",
   "execution_count": 2,
   "metadata": {},
   "outputs": [
    {
     "name": "stdout",
     "output_type": "stream",
     "text": [
      "Execution time:  0.017466306686401367\n"
     ]
    }
   ],
   "source": [
    "import numpy as np\n",
    "\n",
    "star_time = time.time()\n",
    "\n",
    "a = np.arange(1050000)\n",
    "b = np.arange(1050000)\n",
    "c = a + b\n",
    "\n",
    "end_time = time.time() - star_time\n",
    "print('Execution time: ', end_time)"
   ]
  }
 ],
 "metadata": {
  "kernelspec": {
   "display_name": ".venv",
   "language": "python",
   "name": "python3"
  },
  "language_info": {
   "codemirror_mode": {
    "name": "ipython",
    "version": 3
   },
   "file_extension": ".py",
   "mimetype": "text/x-python",
   "name": "python",
   "nbconvert_exporter": "python",
   "pygments_lexer": "ipython3",
   "version": "3.12.3"
  }
 },
 "nbformat": 4,
 "nbformat_minor": 2
}
